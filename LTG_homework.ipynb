{
 "cells": [
  {
   "cell_type": "markdown",
   "id": "ba24849a",
   "metadata": {},
   "source": [
    "Import and format data by semicolon"
   ]
  },
  {
   "cell_type": "code",
   "execution_count": 1,
   "id": "5fdd0f5a",
   "metadata": {},
   "outputs": [
    {
     "name": "stdout",
     "output_type": "stream",
     "text": [
      "                 ID:date              job_title:job_location  hired  \\\n",
      "0         11578773:36910       BUSINESS DATA ANALYST:Vilnius   TRUE   \n",
      "1         11613549:36910       CLINICAL DATA ANALYST:Vilnius  FALSE   \n",
      "2         11680840:36910        DATA QUALITY ANALYST:Vilnius  FALSE   \n",
      "3         11809979:36910        DATA QUALITY ANALYST:Vilnius  FALSE   \n",
      "4         11836481:36910             QA DATA ANALYST:Vilnius  FALSE   \n",
      "...                  ...                                 ...    ...   \n",
      "32591  11614892:12/31/19       BUSINESS DATA ANALYST:Vilnius  FALSE   \n",
      "32592  11666676:12/31/19       BUSINESS DATA ANALYST:Vilnius  FALSE   \n",
      "32593  11688936:12/31/19  MANUFACTURING DATA ANALYST:Vilnius  FALSE   \n",
      "32594  11755877:12/31/19      ECOMMERCE DATA ANALYST:Vilnius   TRUE   \n",
      "32595  11814839:12/31/19        PRODUCT DATA ANALYST:Vilnius  FALSE   \n",
      "\n",
      "      easy_apply:Manager ID  \n",
      "0                FALSE:1156  \n",
      "1                FALSE:1156  \n",
      "2                FALSE:1156  \n",
      "3                 TRUE:1156  \n",
      "4                FALSE:1156  \n",
      "...                     ...  \n",
      "32591            FALSE:5632  \n",
      "32592            FALSE:5632  \n",
      "32593            FALSE:5632  \n",
      "32594             TRUE:5632  \n",
      "32595            FALSE:5632  \n",
      "\n",
      "[32596 rows x 4 columns]\n"
     ]
    }
   ],
   "source": [
    "import pandas as pd\n",
    "\n",
    "df = pd.read_excel (r'C:\\Users\\domin\\Desktop\\free time\\LTG\\Homework.xlsx', sheet_name='LTG_JOB')\n",
    "\n",
    "\n",
    "\n",
    "names =  df.columns.str.split(\";\")\n",
    "df[[df.columns[0], names[0][1], names[0][2], names[0][3]]] = df[df.columns[0]].str.split(';',expand=True)\n",
    "df = df.rename(columns={df.columns[0]: names[0][0]})\n",
    "# print (df.columns.str.split(';'))\n",
    "# print (names[0])\n",
    "# print (df.columns[0])\n",
    "print (df)"
   ]
  },
  {
   "cell_type": "markdown",
   "id": "ad328e2d",
   "metadata": {},
   "source": [
    "Split data by collon"
   ]
  },
  {
   "cell_type": "code",
   "execution_count": 2,
   "id": "339d4b1d",
   "metadata": {},
   "outputs": [
    {
     "name": "stdout",
     "output_type": "stream",
     "text": [
      "             ID                   job_title  hired easy_apply      date  \\\n",
      "0      11578773       BUSINESS DATA ANALYST   TRUE      FALSE     36910   \n",
      "1      11613549       CLINICAL DATA ANALYST  FALSE      FALSE     36910   \n",
      "2      11680840        DATA QUALITY ANALYST  FALSE      FALSE     36910   \n",
      "3      11809979        DATA QUALITY ANALYST  FALSE       TRUE     36910   \n",
      "4      11836481             QA DATA ANALYST  FALSE      FALSE     36910   \n",
      "...         ...                         ...    ...        ...       ...   \n",
      "32591  11614892       BUSINESS DATA ANALYST  FALSE      FALSE  12/31/19   \n",
      "32592  11666676       BUSINESS DATA ANALYST  FALSE      FALSE  12/31/19   \n",
      "32593  11688936  MANUFACTURING DATA ANALYST  FALSE      FALSE  12/31/19   \n",
      "32594  11755877      ECOMMERCE DATA ANALYST   TRUE       TRUE  12/31/19   \n",
      "32595  11814839        PRODUCT DATA ANALYST  FALSE      FALSE  12/31/19   \n",
      "\n",
      "      job_location Manager ID  \n",
      "0          Vilnius       1156  \n",
      "1          Vilnius       1156  \n",
      "2          Vilnius       1156  \n",
      "3          Vilnius       1156  \n",
      "4          Vilnius       1156  \n",
      "...            ...        ...  \n",
      "32591      Vilnius       5632  \n",
      "32592      Vilnius       5632  \n",
      "32593      Vilnius       5632  \n",
      "32594      Vilnius       5632  \n",
      "32595      Vilnius       5632  \n",
      "\n",
      "[32596 rows x 7 columns]\n"
     ]
    }
   ],
   "source": [
    "df_copy = df\n",
    "for name in names[0]:\n",
    "    new_name = name.split(\":\")\n",
    "    if len(new_name) > 1:\n",
    "        df_copy[[name, new_name[1]]] = df_copy[name].str.split(':',expand=True)\n",
    "        df_copy = df_copy.rename(columns={name: new_name[0]})\n",
    "        \n",
    "df = df_copy\n",
    "print(df)\n"
   ]
  },
  {
   "cell_type": "markdown",
   "id": "533cae67",
   "metadata": {},
   "source": [
    " Format dates, assumtion is they are either mm/dd/yy or in 5 digit format"
   ]
  },
  {
   "cell_type": "code",
   "execution_count": 3,
   "id": "dcd52bf7",
   "metadata": {},
   "outputs": [
    {
     "name": "stdout",
     "output_type": "stream",
     "text": [
      "             ID                   job_title  hired easy_apply      date  \\\n",
      "0      11578773       BUSINESS DATA ANALYST   TRUE      FALSE  01/21/71   \n",
      "1      11613549       CLINICAL DATA ANALYST  FALSE      FALSE  01/21/71   \n",
      "2      11680840        DATA QUALITY ANALYST  FALSE      FALSE  01/21/71   \n",
      "3      11809979        DATA QUALITY ANALYST  FALSE       TRUE  01/21/71   \n",
      "4      11836481             QA DATA ANALYST  FALSE      FALSE  01/21/71   \n",
      "...         ...                         ...    ...        ...       ...   \n",
      "32591  11614892       BUSINESS DATA ANALYST  FALSE      FALSE  12/31/19   \n",
      "32592  11666676       BUSINESS DATA ANALYST  FALSE      FALSE  12/31/19   \n",
      "32593  11688936  MANUFACTURING DATA ANALYST  FALSE      FALSE  12/31/19   \n",
      "32594  11755877      ECOMMERCE DATA ANALYST   TRUE       TRUE  12/31/19   \n",
      "32595  11814839        PRODUCT DATA ANALYST  FALSE      FALSE  12/31/19   \n",
      "\n",
      "      job_location Manager ID  \n",
      "0          Vilnius       1156  \n",
      "1          Vilnius       1156  \n",
      "2          Vilnius       1156  \n",
      "3          Vilnius       1156  \n",
      "4          Vilnius       1156  \n",
      "...            ...        ...  \n",
      "32591      Vilnius       5632  \n",
      "32592      Vilnius       5632  \n",
      "32593      Vilnius       5632  \n",
      "32594      Vilnius       5632  \n",
      "32595      Vilnius       5632  \n",
      "\n",
      "[32596 rows x 7 columns]\n"
     ]
    }
   ],
   "source": [
    "from datetime import datetime, timedelta\n",
    "\n",
    "for index in df.index:\n",
    "    if len(df.loc[index, 'date']) == 5:\n",
    "        temp = df.loc[index, 'date']\n",
    "        date = (datetime.utcfromtimestamp(0) + timedelta(int(temp))).strftime(\"%m/%d/%y\")\n",
    "        df.loc[index, 'date'] = date\n",
    "#         print(df.loc[index, 'date'])\n",
    "    else:\n",
    "        test = df.loc[index, 'date'].split('/')\n",
    "        if len(test) != 3:\n",
    "            print(\"Error\")\n",
    "print(df)"
   ]
  },
  {
   "cell_type": "markdown",
   "id": "1e0c84c7",
   "metadata": {},
   "source": [
    "This results in date (2071), which does not make sense, and I would usually remove it. But since it is not specified what those 5 digits mean, I left it. I am doing this over the weekend, if it was a workday I would have asked."
   ]
  },
  {
   "cell_type": "markdown",
   "id": "17ae715c",
   "metadata": {},
   "source": [
    "Also add additional field of job_country"
   ]
  },
  {
   "cell_type": "code",
   "execution_count": 4,
   "id": "41f870ba",
   "metadata": {},
   "outputs": [
    {
     "name": "stdout",
     "output_type": "stream",
     "text": [
      "             ID                   job_title  hired easy_apply      date  \\\n",
      "0      11578773       BUSINESS DATA ANALYST   TRUE      FALSE  01/21/71   \n",
      "1      11613549       CLINICAL DATA ANALYST  FALSE      FALSE  01/21/71   \n",
      "2      11680840        DATA QUALITY ANALYST  FALSE      FALSE  01/21/71   \n",
      "3      11809979        DATA QUALITY ANALYST  FALSE       TRUE  01/21/71   \n",
      "4      11836481             QA DATA ANALYST  FALSE      FALSE  01/21/71   \n",
      "...         ...                         ...    ...        ...       ...   \n",
      "32591  11614892       BUSINESS DATA ANALYST  FALSE      FALSE  12/31/19   \n",
      "32592  11666676       BUSINESS DATA ANALYST  FALSE      FALSE  12/31/19   \n",
      "32593  11688936  MANUFACTURING DATA ANALYST  FALSE      FALSE  12/31/19   \n",
      "32594  11755877      ECOMMERCE DATA ANALYST   TRUE       TRUE  12/31/19   \n",
      "32595  11814839        PRODUCT DATA ANALYST  FALSE      FALSE  12/31/19   \n",
      "\n",
      "      job_country job_location Manager ID  \n",
      "0              LT      Vilnius       1156  \n",
      "1              LT      Vilnius       1156  \n",
      "2              LT      Vilnius       1156  \n",
      "3              LT      Vilnius       1156  \n",
      "4              LT      Vilnius       1156  \n",
      "...           ...          ...        ...  \n",
      "32591          LT      Vilnius       5632  \n",
      "32592          LT      Vilnius       5632  \n",
      "32593          LT      Vilnius       5632  \n",
      "32594          LT      Vilnius       5632  \n",
      "32595          LT      Vilnius       5632  \n",
      "\n",
      "[32596 rows x 8 columns]\n"
     ]
    }
   ],
   "source": [
    "locations = {\n",
    "    \"Vilnius\": \"LT\",\n",
    "    \"Kaunas\": \"LT\",\n",
    "    \"Berlynas\": \"DE\",\n",
    "    \"Hanoveris\": \"DE\",\n",
    "    \"Klaipėda\": \"LT\",\n",
    "    \"Liublinas\": \"PL\",\n",
    "    \"Panevežys\": \"LT\",\n",
    "    \"Riga\": \"LV\",\n",
    "    \"Ryga\": \"LV\", #possible duplicate\n",
    "    \"Talinas\": \"EST\",\n",
    "    \"Utena\": \"LT\",\n",
    "    \"Varšuva\": \"PL\",\n",
    "    \"Viena\": \"AT\",\n",
    "    \"Warsaw\": \"PL\",  #possible duplicate\n",
    "    \"Hanover\": \"DE\" #possible duplicate\n",
    "}\n",
    "df.insert(5, \"job_country\", True)\n",
    "\n",
    "for index in df.index:\n",
    "    location = df.loc[index, 'job_location'].split(\",\")\n",
    "    country = locations.get(location[0], \"City not found\")\n",
    "    if country == \"City not found\":\n",
    "        print(location[0])\n",
    "        print(country)\n",
    "    else:\n",
    "        if location[0] == \"Warsaw\":\n",
    "            location[0] = \"Varšuva\"\n",
    "        if location[0] == \"Riga\":\n",
    "            location[0] = \"Ryga\"\n",
    "        if location[0] == \"Hanover\":\n",
    "            location[0] = \"Hanoveris\"\n",
    "        df.loc[index, 'job_location'] = location[0]\n",
    "        df.loc[index, 'job_country'] = country\n",
    "        \n",
    "print(df)"
   ]
  },
  {
   "cell_type": "markdown",
   "id": "440c2920",
   "metadata": {},
   "source": [
    "Done in two for loops and not one for clarity"
   ]
  },
  {
   "cell_type": "code",
   "execution_count": 5,
   "id": "0c594cdd",
   "metadata": {},
   "outputs": [],
   "source": [
    "df.insert(8, \"day_of_hire\", True)\n",
    "df.insert(9, \"month_of_hire\", True)\n",
    "df.insert(10, \"year_of_hire\", True)\n",
    "for index in df.index:\n",
    "    full_date = df.loc[index, 'date'].split(\"/\")\n",
    "    day_of_hire = full_date[1]\n",
    "    month_of_hire = full_date[0]\n",
    "    year_of_hire = full_date[2]\n",
    "    df.loc[index, 'day_of_hire'] = day_of_hire\n",
    "    df.loc[index, 'month_of_hire'] = month_of_hire\n",
    "    df.loc[index, 'year_of_hire'] = year_of_hire"
   ]
  },
  {
   "cell_type": "code",
   "execution_count": 6,
   "id": "a1274c17",
   "metadata": {},
   "outputs": [],
   "source": [
    "df.to_excel(r'C:\\Users\\domin\\Desktop\\free time\\LTG\\LTG_sorted.xlsx', index = False)"
   ]
  }
 ],
 "metadata": {
  "kernelspec": {
   "display_name": "Python 3",
   "language": "python",
   "name": "python3"
  },
  "language_info": {
   "codemirror_mode": {
    "name": "ipython",
    "version": 3
   },
   "file_extension": ".py",
   "mimetype": "text/x-python",
   "name": "python",
   "nbconvert_exporter": "python",
   "pygments_lexer": "ipython3",
   "version": "3.9.2"
  }
 },
 "nbformat": 4,
 "nbformat_minor": 5
}
